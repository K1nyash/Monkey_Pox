{
 "cells": [
  {
   "cell_type": "code",
   "execution_count": 7,
   "id": "2ddf779b",
   "metadata": {},
   "outputs": [],
   "source": [
    "import pandas as pd\n",
    "\n",
    "df = pd.read_csv('DATA.csv')"
   ]
  },
  {
   "cell_type": "code",
   "execution_count": 8,
   "id": "5dee07f4",
   "metadata": {
    "scrolled": true
   },
   "outputs": [
    {
     "data": {
      "text/html": [
       "<div>\n",
       "<style scoped>\n",
       "    .dataframe tbody tr th:only-of-type {\n",
       "        vertical-align: middle;\n",
       "    }\n",
       "\n",
       "    .dataframe tbody tr th {\n",
       "        vertical-align: top;\n",
       "    }\n",
       "\n",
       "    .dataframe thead th {\n",
       "        text-align: right;\n",
       "    }\n",
       "</style>\n",
       "<table border=\"1\" class=\"dataframe\">\n",
       "  <thead>\n",
       "    <tr style=\"text-align: right;\">\n",
       "      <th></th>\n",
       "      <th>Patient_ID</th>\n",
       "      <th>Systemic Illness</th>\n",
       "      <th>Rectal Pain</th>\n",
       "      <th>Sore Throat</th>\n",
       "      <th>Penile Oedema</th>\n",
       "      <th>Oral Lesions</th>\n",
       "      <th>Solitary Lesion</th>\n",
       "      <th>Swollen Tonsils</th>\n",
       "      <th>HIV Infection</th>\n",
       "      <th>Sexually Transmitted Infection</th>\n",
       "      <th>MonkeyPox</th>\n",
       "    </tr>\n",
       "  </thead>\n",
       "  <tbody>\n",
       "    <tr>\n",
       "      <th>0</th>\n",
       "      <td>P0</td>\n",
       "      <td>None</td>\n",
       "      <td>False</td>\n",
       "      <td>True</td>\n",
       "      <td>True</td>\n",
       "      <td>True</td>\n",
       "      <td>False</td>\n",
       "      <td>True</td>\n",
       "      <td>False</td>\n",
       "      <td>False</td>\n",
       "      <td>Negative</td>\n",
       "    </tr>\n",
       "    <tr>\n",
       "      <th>1</th>\n",
       "      <td>P1</td>\n",
       "      <td>Fever</td>\n",
       "      <td>True</td>\n",
       "      <td>False</td>\n",
       "      <td>True</td>\n",
       "      <td>True</td>\n",
       "      <td>False</td>\n",
       "      <td>False</td>\n",
       "      <td>True</td>\n",
       "      <td>False</td>\n",
       "      <td>Positive</td>\n",
       "    </tr>\n",
       "    <tr>\n",
       "      <th>2</th>\n",
       "      <td>P2</td>\n",
       "      <td>Fever</td>\n",
       "      <td>False</td>\n",
       "      <td>True</td>\n",
       "      <td>True</td>\n",
       "      <td>False</td>\n",
       "      <td>False</td>\n",
       "      <td>False</td>\n",
       "      <td>True</td>\n",
       "      <td>False</td>\n",
       "      <td>Positive</td>\n",
       "    </tr>\n",
       "    <tr>\n",
       "      <th>3</th>\n",
       "      <td>P3</td>\n",
       "      <td>None</td>\n",
       "      <td>True</td>\n",
       "      <td>False</td>\n",
       "      <td>False</td>\n",
       "      <td>False</td>\n",
       "      <td>True</td>\n",
       "      <td>True</td>\n",
       "      <td>True</td>\n",
       "      <td>False</td>\n",
       "      <td>Positive</td>\n",
       "    </tr>\n",
       "    <tr>\n",
       "      <th>4</th>\n",
       "      <td>P4</td>\n",
       "      <td>Swollen Lymph Nodes</td>\n",
       "      <td>True</td>\n",
       "      <td>True</td>\n",
       "      <td>True</td>\n",
       "      <td>False</td>\n",
       "      <td>False</td>\n",
       "      <td>True</td>\n",
       "      <td>True</td>\n",
       "      <td>False</td>\n",
       "      <td>Positive</td>\n",
       "    </tr>\n",
       "  </tbody>\n",
       "</table>\n",
       "</div>"
      ],
      "text/plain": [
       "  Patient_ID     Systemic Illness  Rectal Pain  Sore Throat  Penile Oedema  \\\n",
       "0         P0                 None        False         True           True   \n",
       "1         P1                Fever         True        False           True   \n",
       "2         P2                Fever        False         True           True   \n",
       "3         P3                 None         True        False          False   \n",
       "4         P4  Swollen Lymph Nodes         True         True           True   \n",
       "\n",
       "   Oral Lesions  Solitary Lesion  Swollen Tonsils  HIV Infection  \\\n",
       "0          True            False             True          False   \n",
       "1          True            False            False           True   \n",
       "2         False            False            False           True   \n",
       "3         False             True             True           True   \n",
       "4         False            False             True           True   \n",
       "\n",
       "   Sexually Transmitted Infection MonkeyPox  \n",
       "0                           False  Negative  \n",
       "1                           False  Positive  \n",
       "2                           False  Positive  \n",
       "3                           False  Positive  \n",
       "4                           False  Positive  "
      ]
     },
     "execution_count": 8,
     "metadata": {},
     "output_type": "execute_result"
    }
   ],
   "source": [
    "df.head()"
   ]
  },
  {
   "cell_type": "code",
   "execution_count": 9,
   "id": "f92db92d",
   "metadata": {
    "scrolled": true
   },
   "outputs": [
    {
     "data": {
      "text/plain": [
       "(25000, 10)"
      ]
     },
     "execution_count": 9,
     "metadata": {},
     "output_type": "execute_result"
    }
   ],
   "source": [
    "df.shape\n"
   ]
  },
  {
   "cell_type": "code",
   "execution_count": 10,
   "id": "f235654a",
   "metadata": {
    "scrolled": true
   },
   "outputs": [
    {
     "data": {
      "text/plain": [
       "0"
      ]
     },
     "execution_count": 10,
     "metadata": {},
     "output_type": "execute_result"
    }
   ],
   "source": [
    "df.Patient_ID.duplicated().sum()"
   ]
  },
  {
   "cell_type": "code",
   "execution_count": 14,
   "id": "74702e56",
   "metadata": {},
   "outputs": [
    {
     "name": "stdout",
     "output_type": "stream",
     "text": [
      "<class 'pandas.core.frame.DataFrame'>\n",
      "RangeIndex: 25000 entries, 0 to 24999\n",
      "Data columns (total 11 columns):\n",
      " #   Column                          Non-Null Count  Dtype \n",
      "---  ------                          --------------  ----- \n",
      " 0   Patient_ID                      25000 non-null  object\n",
      " 1   Systemic Illness                25000 non-null  object\n",
      " 2   Rectal Pain                     25000 non-null  bool  \n",
      " 3   Sore Throat                     25000 non-null  bool  \n",
      " 4   Penile Oedema                   25000 non-null  bool  \n",
      " 5   Oral Lesions                    25000 non-null  bool  \n",
      " 6   Solitary Lesion                 25000 non-null  bool  \n",
      " 7   Swollen Tonsils                 25000 non-null  bool  \n",
      " 8   HIV Infection                   25000 non-null  bool  \n",
      " 9   Sexually Transmitted Infection  25000 non-null  bool  \n",
      " 10  MonkeyPox                       25000 non-null  object\n",
      "dtypes: bool(8), object(3)\n",
      "memory usage: 781.4+ KB\n"
     ]
    }
   ],
   "source": [
    "df.info()"
   ]
  },
  {
   "cell_type": "code",
   "execution_count": 11,
   "id": "3fa41572",
   "metadata": {},
   "outputs": [
    {
     "data": {
      "text/plain": [
       "Patient_ID                        0\n",
       "Systemic Illness                  0\n",
       "Rectal Pain                       0\n",
       "Sore Throat                       0\n",
       "Penile Oedema                     0\n",
       "Oral Lesions                      0\n",
       "Solitary Lesion                   0\n",
       "Swollen Tonsils                   0\n",
       "HIV Infection                     0\n",
       "Sexually Transmitted Infection    0\n",
       "MonkeyPox                         0\n",
       "dtype: int64"
      ]
     },
     "execution_count": 11,
     "metadata": {},
     "output_type": "execute_result"
    }
   ],
   "source": [
    "df.isna().sum()"
   ]
  },
  {
   "cell_type": "code",
   "execution_count": 17,
   "id": "b22b5ce5",
   "metadata": {},
   "outputs": [
    {
     "data": {
      "text/plain": [
       "Patient_ID                        P1P2P3P4P6P7P8P12P13P15P16P17P19P22P23P24P27P3...\n",
       "Systemic Illness                  FeverFeverNoneSwollen Lymph NodesFeverFeverMus...\n",
       "Rectal Pain                                                                    8702\n",
       "Sore Throat                                                                    8370\n",
       "Penile Oedema                                                                  8398\n",
       "Oral Lesions                                                                   8258\n",
       "Solitary Lesion                                                                8197\n",
       "Swollen Tonsils                                                                8055\n",
       "HIV Infection                                                                  8887\n",
       "Sexually Transmitted Infection                                                 8662\n",
       "MonkeyPox                         PositivePositivePositivePositivePositivePositi...\n",
       "dtype: object"
      ]
     },
     "execution_count": 17,
     "metadata": {},
     "output_type": "execute_result"
    }
   ],
   "source": [
    "df[df['MonkeyPox'] == 'Positive'].sum()"
   ]
  }
 ],
 "metadata": {
  "kernelspec": {
   "display_name": "Python 3 (ipykernel)",
   "language": "python",
   "name": "python3"
  },
  "language_info": {
   "codemirror_mode": {
    "name": "ipython",
    "version": 3
   },
   "file_extension": ".py",
   "mimetype": "text/x-python",
   "name": "python",
   "nbconvert_exporter": "python",
   "pygments_lexer": "ipython3",
   "version": "3.10.6"
  }
 },
 "nbformat": 4,
 "nbformat_minor": 5
}
